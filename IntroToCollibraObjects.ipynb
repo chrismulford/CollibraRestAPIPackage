{
 "cells": [
  {
   "cell_type": "markdown",
   "metadata": {},
   "source": [
    "# Using the Collibra API Package\n",
    "\n",
    "See the README.md file before starting to get set up.\n",
    "\n",
    "## 1. Intro to CollibraObjects\n",
    "\n",
    "The CollibraObject class, stored in `CollibraObjects/collibraObject.py` is a generic object that contains the common methods held by most objects in Collibra. Examples of CollibraObjects are `Community`, `Domain` and `Asset`. These particular objects have their own classes which inherit the methods from the parent CollibraObject.\n",
    "\n",
    "An example of a method available to the CollibraObject is `get_collibra_metadata_from_name` which fills out the object's attributes by calling a get request on the API and filtering by the name of the object. The endpoint it hits is determined by the child object you call it from. For this reason, the CollibraObject cannot be instantiated itself."
   ]
  },
  {
   "cell_type": "markdown",
   "metadata": {},
   "source": [
    "## 2. Getting Started: Community\n",
    "\n",
    "To import the community class, run: \n",
    "`from CollibraObjects.community import Community`"
   ]
  },
  {
   "cell_type": "code",
   "execution_count": 1,
   "metadata": {},
   "outputs": [],
   "source": [
    "from CollibraObjects.community import Community"
   ]
  },
  {
   "cell_type": "markdown",
   "metadata": {},
   "source": [
    "To create a new Community object locally, create a new instance of the Community object and pass it the name of the community. By default, an API call to the communities endpoint will check to see if the Collibra environment already has a community with that name. If it finds one, it will create and populate the attributes it finds.\n",
    "\n",
    "Two examples are shown below:\n",
    "1. A community that already exists in Collibra\n",
    "2. A community that doesn't already exist in Collibra"
   ]
  },
  {
   "cell_type": "markdown",
   "metadata": {},
   "source": [
    "### Example 1: Community that already exists\n"
   ]
  },
  {
   "cell_type": "code",
   "execution_count": 2,
   "metadata": {},
   "outputs": [],
   "source": [
    "# Creating a local community object that doesn't exist online. \n",
    "com = Community('Christopher Mulford')"
   ]
  },
  {
   "cell_type": "markdown",
   "metadata": {},
   "source": [
    "Calling `vars(<Community>)` will list the known attributes of the community. It can be seen that `exists_in_env` is True and so it exists in Collibra. It has also populated other attributes other than the name."
   ]
  },
  {
   "cell_type": "code",
   "execution_count": 3,
   "metadata": {},
   "outputs": [
    {
     "data": {
      "text/plain": [
       "{'name': 'Christopher Mulford',\n",
       " 'exists_in_env': True,\n",
       " 'id': '5774022f-8fc9-4edc-857a-b96eba505d61',\n",
       " 'createdBy': 'eb527160-2949-414c-9878-c8572bac393d',\n",
       " 'createdOn': 1668595966733,\n",
       " 'lastModifiedBy': 'eb527160-2949-414c-9878-c8572bac393d',\n",
       " 'lastModifiedOn': 1668781611899,\n",
       " 'system': False,\n",
       " 'resourceType': 'Community',\n",
       " 'description': 'Changed with update method'}"
      ]
     },
     "execution_count": 3,
     "metadata": {},
     "output_type": "execute_result"
    }
   ],
   "source": [
    "vars(com)"
   ]
  },
  {
   "cell_type": "markdown",
   "metadata": {},
   "source": [
    "### Example 2: Community that doesn't exist"
   ]
  },
  {
   "cell_type": "code",
   "execution_count": 4,
   "metadata": {},
   "outputs": [],
   "source": [
    "new_com = Community('This Doesnt Exist')"
   ]
  },
  {
   "cell_type": "markdown",
   "metadata": {},
   "source": [
    "When we call `vars(<Community)` on this, we see that it is not as well populated. Also note that `exists_in_env` is False."
   ]
  },
  {
   "cell_type": "code",
   "execution_count": 5,
   "metadata": {},
   "outputs": [
    {
     "data": {
      "text/plain": [
       "{'name': 'This Doesnt Exist', 'exists_in_env': False}"
      ]
     },
     "execution_count": 5,
     "metadata": {},
     "output_type": "execute_result"
    }
   ],
   "source": [
    "vars(new_com)"
   ]
  },
  {
   "cell_type": "markdown",
   "metadata": {},
   "source": [
    "If we the create the community in Collibra and want to update the object to show the change, we can run `Community.check_exists_in_env(set_attrs=True)` to update the local object. The parameter set_attrs is optional and is used to change the `exists_in_env` attribute without updating anything else."
   ]
  },
  {
   "cell_type": "code",
   "execution_count": 7,
   "metadata": {},
   "outputs": [
    {
     "data": {
      "text/plain": [
       "{'name': 'This Doesnt Exist', 'exists_in_env': False}"
      ]
     },
     "execution_count": 7,
     "metadata": {},
     "output_type": "execute_result"
    }
   ],
   "source": [
    "new_com.check_exists_in_env(set_attrs=True)\n",
    "vars(new_com)"
   ]
  }
 ],
 "metadata": {
  "kernelspec": {
   "display_name": "Python 3.10.8 ('collibra')",
   "language": "python",
   "name": "python3"
  },
  "language_info": {
   "codemirror_mode": {
    "name": "ipython",
    "version": 3
   },
   "file_extension": ".py",
   "mimetype": "text/x-python",
   "name": "python",
   "nbconvert_exporter": "python",
   "pygments_lexer": "ipython3",
   "version": "3.10.8"
  },
  "orig_nbformat": 4,
  "vscode": {
   "interpreter": {
    "hash": "fbada71e8e14ef2dc8dbc57604498b5f5be0a67afb4c0033a377a9090db9e3e7"
   }
  }
 },
 "nbformat": 4,
 "nbformat_minor": 2
}
