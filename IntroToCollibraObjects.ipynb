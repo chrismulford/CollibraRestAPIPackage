{
 "cells": [
  {
   "cell_type": "markdown",
   "metadata": {},
   "source": [
    "# Using the Collibra API Package\n",
    "\n",
    "See the README.md file before starting to get set up.\n",
    "\n",
    "## 1. Intro to CollibraObjects\n",
    "\n",
    "The CollibraObject class, stored in `CollibraObjects/collibraObject.py` is a generic object that contains the common methods held by most objects in Collibra. Examples of CollibraObjects are `Community`, `Domain` and `Asset`. These particular objects have their own classes which inherit the methods from the parent CollibraObject.\n",
    "\n",
    "An example of a method available to the CollibraObject is `get_collibra_metadata_from_name` which fills out the object's attributes by calling a get request on the API and filtering by the name of the object. The endpoint it hits is determined by the child object you call it from. For this reason, the CollibraObject cannot be instantiated itself."
   ]
  },
  {
   "cell_type": "markdown",
   "metadata": {},
   "source": [
    "## 2. Getting Started: Community\n",
    "\n",
    "To import the community class, run: \n",
    "`from CollibraObjects.community import Community`"
   ]
  },
  {
   "cell_type": "code",
   "execution_count": 2,
   "metadata": {},
   "outputs": [],
   "source": [
    "from src.CollibraObjects.community import Community"
   ]
  },
  {
   "cell_type": "markdown",
   "metadata": {},
   "source": [
    "To create a new Community object locally, create a new instance of the Community object and pass it the name of the community. By default, an API call to the communities endpoint will check to see if the Collibra environment already has a community with that name. If it finds one, it will create and populate the attributes it finds.\n",
    "\n",
    "Two examples are shown below:\n",
    "1. A community that already exists in Collibra\n",
    "2. A community that doesn't already exist in Collibra"
   ]
  },
  {
   "cell_type": "markdown",
   "metadata": {},
   "source": [
    "### Example 1: Community that already exists\n"
   ]
  },
  {
   "cell_type": "code",
   "execution_count": 3,
   "metadata": {},
   "outputs": [],
   "source": [
    "# Creating a local community object that doesn't exist online. \n",
    "com = Community(name='Christopher Mulford')"
   ]
  },
  {
   "cell_type": "markdown",
   "metadata": {},
   "source": [
    "Calling `get_all_metadata` will list the known attributes of the community. It can be seen that `exists_in_env` is True and so it exists in Collibra. It has also populated other attributes other than the name."
   ]
  },
  {
   "cell_type": "code",
   "execution_count": 4,
   "metadata": {},
   "outputs": [
    {
     "data": {
      "text/plain": [
       "{'id': '5774022f-8fc9-4edc-857a-b96eba505d61',\n",
       " 'name': 'Christopher Mulford',\n",
       " 'parent': None,\n",
       " 'exists_in_env': True,\n",
       " 'createdBy': 'eb527160-2949-414c-9878-c8572bac393d',\n",
       " 'createdOn': 1668595966733,\n",
       " 'lastModifiedBy': 'eb527160-2949-414c-9878-c8572bac393d',\n",
       " 'lastModifiedOn': 1668781611899,\n",
       " 'system': False,\n",
       " 'resourceType': 'Community',\n",
       " 'description': 'Changed with update method'}"
      ]
     },
     "execution_count": 4,
     "metadata": {},
     "output_type": "execute_result"
    }
   ],
   "source": [
    "com.get_all_metadata()"
   ]
  },
  {
   "cell_type": "markdown",
   "metadata": {},
   "source": [
    "### Example 2: Community that doesn't exist"
   ]
  },
  {
   "cell_type": "code",
   "execution_count": 5,
   "metadata": {},
   "outputs": [],
   "source": [
    "new_com = Community(name='This Doesnt Exist')"
   ]
  },
  {
   "cell_type": "markdown",
   "metadata": {},
   "source": [
    "When we call `get_all_metadata` on this, we see that it is not as well populated. Also note that `exists_in_env` is False."
   ]
  },
  {
   "cell_type": "code",
   "execution_count": 6,
   "metadata": {},
   "outputs": [
    {
     "data": {
      "text/plain": [
       "{'id': '', 'name': 'This Doesnt Exist', 'parent': None, 'exists_in_env': False}"
      ]
     },
     "execution_count": 6,
     "metadata": {},
     "output_type": "execute_result"
    }
   ],
   "source": [
    "new_com.get_all_metadata()"
   ]
  },
  {
   "cell_type": "markdown",
   "metadata": {},
   "source": [
    "If we the create the community in Collibra and want to update the object to show the change, we can run `Community.check_exists_in_env(set_attrs=True)` to update the local object. The parameter set_attrs is optional and is used to change the `exists_in_env` attribute without updating anything else."
   ]
  },
  {
   "cell_type": "code",
   "execution_count": 7,
   "metadata": {},
   "outputs": [
    {
     "data": {
      "text/plain": [
       "{'id': '', 'name': 'This Doesnt Exist', 'parent': None, 'exists_in_env': False}"
      ]
     },
     "execution_count": 7,
     "metadata": {},
     "output_type": "execute_result"
    }
   ],
   "source": [
    "new_com.check_exists_in_env(set_attrs=True)\n",
    "new_com.get_all_metadata()"
   ]
  },
  {
   "cell_type": "markdown",
   "metadata": {},
   "source": [
    "## Creating a new community remotely\n",
    "\n",
    "When you create a community object locally, the chances are that you will want to publish it to Collibra. You can do this by specifying as little as the name of the community.\n",
    "\n",
    "1. Start by creating a local community with a new, unique name that doesnt exist in the Collibra enviornment."
   ]
  },
  {
   "cell_type": "code",
   "execution_count": 8,
   "metadata": {},
   "outputs": [],
   "source": [
    "create_com = Community(name='CMCreateTest')"
   ]
  },
  {
   "cell_type": "markdown",
   "metadata": {},
   "source": [
    "2. Check that this name isnt already taken by calling the `exists_in_env` attribute"
   ]
  },
  {
   "cell_type": "code",
   "execution_count": 9,
   "metadata": {},
   "outputs": [
    {
     "data": {
      "text/plain": [
       "False"
      ]
     },
     "execution_count": 9,
     "metadata": {},
     "output_type": "execute_result"
    }
   ],
   "source": [
    "create_com.exists_in_env"
   ]
  },
  {
   "cell_type": "markdown",
   "metadata": {},
   "source": [
    "3. Add the paramters that you wish to add, for example a description or parentId. To see the acceptable inputs, you can call `available_params`"
   ]
  },
  {
   "cell_type": "code",
   "execution_count": 10,
   "metadata": {},
   "outputs": [
    {
     "data": {
      "text/plain": [
       "['parentId',\n",
       " 'createdBy',\n",
       " 'createdOn',\n",
       " 'lastModifiedBy',\n",
       " 'lastModifiedOn',\n",
       " 'system',\n",
       " 'resourceType',\n",
       " 'description']"
      ]
     },
     "execution_count": 10,
     "metadata": {},
     "output_type": "execute_result"
    }
   ],
   "source": [
    "create_com.available_params()"
   ]
  },
  {
   "cell_type": "code",
   "execution_count": 11,
   "metadata": {},
   "outputs": [
    {
     "data": {
      "text/plain": [
       "{'id': '', 'name': 'CMCreateTest', 'parent': None, 'exists_in_env': False}"
      ]
     },
     "execution_count": 11,
     "metadata": {},
     "output_type": "execute_result"
    }
   ],
   "source": [
    "create_com.get_all_metadata()"
   ]
  },
  {
   "cell_type": "code",
   "execution_count": 12,
   "metadata": {},
   "outputs": [],
   "source": [
    "create_com.description = 'Community created through the API'"
   ]
  },
  {
   "cell_type": "markdown",
   "metadata": {},
   "source": [
    "4. Send the new community to collibra using the `create_in_collibra` method."
   ]
  },
  {
   "cell_type": "code",
   "execution_count": 13,
   "metadata": {},
   "outputs": [
    {
     "name": "stdout",
     "output_type": "stream",
     "text": [
      "Success!\n"
     ]
    }
   ],
   "source": [
    "create_com.create_in_collibra()"
   ]
  },
  {
   "cell_type": "markdown",
   "metadata": {},
   "source": [
    "Check Collibra to see if the community was created.\n",
    "\n",
    "You can see that the extra information was also filled out in the local object."
   ]
  },
  {
   "cell_type": "code",
   "execution_count": 14,
   "metadata": {},
   "outputs": [
    {
     "data": {
      "text/plain": [
       "{'id': '4b75eb80-8fdc-4faf-b5f4-5b372fa86905',\n",
       " 'name': 'CMCreateTest',\n",
       " 'parent': None,\n",
       " 'exists_in_env': True,\n",
       " 'description': 'Community created through the API',\n",
       " 'createdBy': 'eb527160-2949-414c-9878-c8572bac393d',\n",
       " 'createdOn': 1669308796284,\n",
       " 'lastModifiedBy': 'eb527160-2949-414c-9878-c8572bac393d',\n",
       " 'lastModifiedOn': 1669308796284,\n",
       " 'system': False,\n",
       " 'resourceType': 'Community'}"
      ]
     },
     "execution_count": 14,
     "metadata": {},
     "output_type": "execute_result"
    }
   ],
   "source": [
    "create_com.get_all_metadata()"
   ]
  },
  {
   "cell_type": "markdown",
   "metadata": {},
   "source": [
    "\n",
    "Trying to do this twice will result in the following statement:"
   ]
  },
  {
   "cell_type": "code",
   "execution_count": 15,
   "metadata": {},
   "outputs": [
    {
     "name": "stdout",
     "output_type": "stream",
     "text": [
      "Could not create object. CMCreateTest already exists in collibra. Local object attributes not changed.\n"
     ]
    }
   ],
   "source": [
    "create_com.create_in_collibra()"
   ]
  },
  {
   "cell_type": "code",
   "execution_count": 16,
   "metadata": {},
   "outputs": [
    {
     "name": "stdout",
     "output_type": "stream",
     "text": [
      "Success! Here are the details of the community we are going to delete:\n"
     ]
    },
    {
     "data": {
      "text/plain": [
       "{'id': '6c46aa95-df13-4118-851f-935b33388d34',\n",
       " 'createdBy': 'eb527160-2949-414c-9878-c8572bac393d',\n",
       " 'createdOn': 1669308796983,\n",
       " 'system': False,\n",
       " 'resourceType': 'Job',\n",
       " 'name': 'Removal of communities',\n",
       " 'type': 'REMOVECOMMUNITIES',\n",
       " 'userId': 'eb527160-2949-414c-9878-c8572bac393d',\n",
       " 'visibility': 0,\n",
       " 'progressPercentage': 100.0,\n",
       " 'cancelable': False,\n",
       " 'startDate': 1669308797823,\n",
       " 'endDate': 1669308797928,\n",
       " 'state': 'COMPLETED',\n",
       " 'result': 'SUCCESS',\n",
       " 'message': '{\"assetsCount\":0,\"assetsRemoved\":0,\"completed\":true}'}"
      ]
     },
     "execution_count": 16,
     "metadata": {},
     "output_type": "execute_result"
    }
   ],
   "source": [
    "create_com.delete_from_collibra()"
   ]
  }
 ],
 "metadata": {
  "kernelspec": {
   "display_name": "Python 3.10.8 ('collibra')",
   "language": "python",
   "name": "python3"
  },
  "language_info": {
   "codemirror_mode": {
    "name": "ipython",
    "version": 3
   },
   "file_extension": ".py",
   "mimetype": "text/x-python",
   "name": "python",
   "nbconvert_exporter": "python",
   "pygments_lexer": "ipython3",
   "version": "3.10.8"
  },
  "orig_nbformat": 4,
  "vscode": {
   "interpreter": {
    "hash": "fbada71e8e14ef2dc8dbc57604498b5f5be0a67afb4c0033a377a9090db9e3e7"
   }
  }
 },
 "nbformat": 4,
 "nbformat_minor": 2
}
